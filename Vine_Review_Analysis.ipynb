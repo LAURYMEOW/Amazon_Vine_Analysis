{
  "nbformat": 4,
  "nbformat_minor": 0,
  "metadata": {
    "colab": {
      "name": "Vine_Review_Analysis.ipynb",
      "provenance": [],
      "authorship_tag": "ABX9TyNssrhArjbN4d4k4FHBF0s3",
      "include_colab_link": true
    },
    "kernelspec": {
      "name": "python3",
      "display_name": "Python 3"
    },
    "language_info": {
      "name": "python"
    }
  },
  "cells": [
    {
      "cell_type": "markdown",
      "metadata": {
        "id": "view-in-github",
        "colab_type": "text"
      },
      "source": [
        "<a href=\"https://colab.research.google.com/github/LAURYMEOW/Amazon_Vine_Analysis/blob/main/Vine_Review_Analysis.ipynb\" target=\"_parent\"><img src=\"https://colab.research.google.com/assets/colab-badge.svg\" alt=\"Open In Colab\"/></a>"
      ]
    },
    {
      "cell_type": "code",
      "execution_count": 1,
      "metadata": {
        "colab": {
          "base_uri": "https://localhost:8080/"
        },
        "id": "CdInP9ldLNmE",
        "outputId": "705c08cf-7c3f-4dbd-c2f3-e551248012f7"
      },
      "outputs": [
        {
          "output_type": "stream",
          "name": "stdout",
          "text": [
            "\r0% [Working]\r            \rGet:1 http://security.ubuntu.com/ubuntu bionic-security InRelease [88.7 kB]\n",
            "Hit:2 https://developer.download.nvidia.com/compute/cuda/repos/ubuntu1804/x86_64  InRelease\n",
            "Hit:3 http://archive.ubuntu.com/ubuntu bionic InRelease\n",
            "Get:4 https://cloud.r-project.org/bin/linux/ubuntu bionic-cran40/ InRelease [3,626 B]\n",
            "Get:5 http://archive.ubuntu.com/ubuntu bionic-updates InRelease [88.7 kB]\n",
            "Ign:6 https://developer.download.nvidia.com/compute/machine-learning/repos/ubuntu1804/x86_64  InRelease\n",
            "Hit:7 http://ppa.launchpad.net/c2d4u.team/c2d4u4.0+/ubuntu bionic InRelease\n",
            "Hit:8 https://developer.download.nvidia.com/compute/machine-learning/repos/ubuntu1804/x86_64  Release\n",
            "Get:9 http://archive.ubuntu.com/ubuntu bionic-backports InRelease [74.6 kB]\n",
            "Hit:10 http://ppa.launchpad.net/cran/libgit2/ubuntu bionic InRelease\n",
            "Hit:11 http://ppa.launchpad.net/deadsnakes/ppa/ubuntu bionic InRelease\n",
            "Hit:12 http://ppa.launchpad.net/graphics-drivers/ppa/ubuntu bionic InRelease\n",
            "Get:13 http://security.ubuntu.com/ubuntu bionic-security/universe amd64 Packages [1,526 kB]\n",
            "Get:14 http://security.ubuntu.com/ubuntu bionic-security/main amd64 Packages [2,901 kB]\n",
            "Get:15 http://security.ubuntu.com/ubuntu bionic-security/restricted amd64 Packages [1,063 kB]\n",
            "Get:16 https://cloud.r-project.org/bin/linux/ubuntu bionic-cran40/ Packages [85.6 kB]\n",
            "Get:18 http://archive.ubuntu.com/ubuntu bionic-updates/universe amd64 Packages [2,302 kB]\n",
            "Get:19 http://archive.ubuntu.com/ubuntu bionic-updates/restricted amd64 Packages [1,105 kB]\n",
            "Get:20 http://archive.ubuntu.com/ubuntu bionic-updates/main amd64 Packages [3,332 kB]\n",
            "Fetched 12.6 MB in 7s (1,790 kB/s)\n",
            "Reading package lists... Done\n"
          ]
        }
      ],
      "source": [
        "import os\n",
        "# Find the latest version of spark 3.0  from http://www.apache.org/dist/spark/ and enter as the spark version\n",
        "# For example:\n",
        "# spark_version = 'spark-3.0.3'\n",
        "spark_version = 'spark-3.3.0'\n",
        "os.environ['SPARK_VERSION']=spark_version\n",
        "\n",
        "# Install Spark and Java\n",
        "!apt-get update\n",
        "!apt-get install openjdk-11-jdk-headless -qq > /dev/null\n",
        "!wget -q https://dlcdn.apache.org/spark/spark-3.3.0/spark-3.3.0-bin-hadoop3.tgz\n",
        "!tar xf $SPARK_VERSION-bin-hadoop3.tgz\n",
        "!pip install -q findspark\n",
        "# Set Environment Variables\n",
        "import os\n",
        "os.environ[\"JAVA_HOME\"] = \"/usr/lib/jvm/java-11-openjdk-amd64\"\n",
        "os.environ[\"SPARK_HOME\"] = f\"/content/{spark_version}-bin-hadoop3\"\n",
        "\n",
        "# Start a SparkSession\n",
        "import findspark\n",
        "findspark.init()"
      ]
    },
    {
      "cell_type": "code",
      "source": [
        "# Download the Postgres driver that will allow Spark to interact with Postgres.\n",
        "!wget https://jdbc.postgresql.org/download/postgresql-42.2.16.jar"
      ],
      "metadata": {
        "colab": {
          "base_uri": "https://localhost:8080/"
        },
        "id": "iT8lT5h9Lgqg",
        "outputId": "5c009e0d-5a99-4416-f80e-47a9294eaeca"
      },
      "execution_count": 2,
      "outputs": [
        {
          "output_type": "stream",
          "name": "stdout",
          "text": [
            "--2022-07-20 01:17:06--  https://jdbc.postgresql.org/download/postgresql-42.2.16.jar\n",
            "Resolving jdbc.postgresql.org (jdbc.postgresql.org)... 72.32.157.228, 2001:4800:3e1:1::228\n",
            "Connecting to jdbc.postgresql.org (jdbc.postgresql.org)|72.32.157.228|:443... connected.\n",
            "HTTP request sent, awaiting response... 200 OK\n",
            "Length: 1002883 (979K) [application/java-archive]\n",
            "Saving to: ‘postgresql-42.2.16.jar’\n",
            "\n",
            "postgresql-42.2.16. 100%[===================>] 979.38K  6.35MB/s    in 0.2s    \n",
            "\n",
            "2022-07-20 01:17:06 (6.35 MB/s) - ‘postgresql-42.2.16.jar’ saved [1002883/1002883]\n",
            "\n"
          ]
        }
      ]
    },
    {
      "cell_type": "code",
      "source": [
        "from pyspark.sql import SparkSession\n",
        "spark = SparkSession.builder.appName(\"M16-Amazon-Challenge\").config(\"spark.driver.extraClassPath\",\"/content/postgresql-42.2.16.jar\").getOrCreate()"
      ],
      "metadata": {
        "id": "PFwOB6-fLjxJ"
      },
      "execution_count": 3,
      "outputs": []
    },
    {
      "cell_type": "code",
      "source": [
        "from pyspark import SparkFiles\n",
        "url = \"https://s3.amazonaws.com/amazon-reviews-pds/tsv/amazon_reviews_us_Beauty_v1_00.tsv.gz\"\n",
        "spark.sparkContext.addFile(url)\n",
        "df = spark.read.option(\"encoding\", \"UTF-8\").csv(SparkFiles.get(\"amazon_reviews_us_Beauty_v1_00.tsv.gz\"), sep=\"\\t\", header=True, inferSchema=True)\n",
        "df.show()"
      ],
      "metadata": {
        "colab": {
          "base_uri": "https://localhost:8080/"
        },
        "id": "4j9ham6WLkyC",
        "outputId": "af332c95-2987-441b-b06c-b37587d61a03"
      },
      "execution_count": 4,
      "outputs": [
        {
          "output_type": "stream",
          "name": "stdout",
          "text": [
            "+-----------+-----------+--------------+----------+--------------+--------------------+----------------+-----------+-------------+-----------+----+-----------------+--------------------+---------------------+-------------------+\n",
            "|marketplace|customer_id|     review_id|product_id|product_parent|       product_title|product_category|star_rating|helpful_votes|total_votes|vine|verified_purchase|     review_headline|          review_body|        review_date|\n",
            "+-----------+-----------+--------------+----------+--------------+--------------------+----------------+-----------+-------------+-----------+----+-----------------+--------------------+---------------------+-------------------+\n",
            "|         US|    1797882|R3I2DHQBR577SS|B001ANOOOE|       2102612|The Naked Bee Vit...|          Beauty|          5|            0|          0|   N|                Y|          Five Stars| Love this, excell...|2015-08-31 00:00:00|\n",
            "|         US|   18381298|R1QNE9NQFJC2Y4|B0016J22EQ|     106393691|Alba Botanica Sun...|          Beauty|          5|            0|          0|   N|                Y|Thank you Alba Bo...| The great thing a...|2015-08-31 00:00:00|\n",
            "|         US|   19242472|R3LIDG2Q4LJBAO|B00HU6UQAG|     375449471|Elysee Infusion S...|          Beauty|          5|            0|          0|   N|                Y|          Five Stars| Great Product, I'...|2015-08-31 00:00:00|\n",
            "|         US|   19551372|R3KSZHPAEVPEAL|B002HWS7RM|     255651889|Diane D722 Color,...|          Beauty|          5|            0|          0|   N|                Y|          GOOD DEAL!| I use them as sho...|2015-08-31 00:00:00|\n",
            "|         US|   14802407| RAI2OIG50KZ43|B00SM99KWU|     116158747|Biore UV Aqua Ric...|          Beauty|          5|            0|          0|   N|                Y|this soaks in qui...| This is my go-to ...|2015-08-31 00:00:00|\n",
            "|         US|    2909389|R1R30FA4RB5P54|B000NYL1Z6|     166146615|Murad Clarifying ...|          Beauty|          4|            0|          0|   N|                Y|          Four Stars|                 Good|2015-08-31 00:00:00|\n",
            "|         US|   19397215|R30IJKCGJBGPJH|B001SYWTFG|     111742328|CoverGirl Queen C...|          Beauty|          5|            0|          0|   N|                Y|            Good buy| Great eyeliner, d...|2015-08-31 00:00:00|\n",
            "|         US|    3195210|R18GLJJPVQ1OVH|B005F2EVMQ|     255803087|Bifesta Mandom Ey...|          Beauty|          5|            0|          0|   N|                Y|          Five Stars|Best makeup remover！|2015-08-31 00:00:00|\n",
            "|         US|   52216383| R8TVYIJXLYJT0|B00M1SUW7K|     246816549|Can You Handlebar...|          Beauty|          5|            0|          0|   N|                Y|Tame the wild mus...| This is a great p...|2015-08-31 00:00:00|\n",
            "|         US|   10278216|R1CJGF6M3PVHEZ|B001KYQA1S|       9612905|Maybelline Great ...|          Beauty|          1|            0|          2|   N|                Y|but it's like hav...| I thought it woul...|2015-08-31 00:00:00|\n",
            "|         US|   24655453|R2A30ALEGLMCGN|B00SAQ9DZY|     292127037|12 New, High Qual...|          Beauty|          4|            1|          1|   N|                Y|        Good Product| These are great f...|2015-08-31 00:00:00|\n",
            "|         US|   30788223|R134GP1Y3EQZ1L|B00HFQQ0VU|     311309827|Waterpik Aquarius...|          Beauty|          5|            0|          0|   N|                Y| Optimum Oral Health| Just got this.  N...|2015-08-31 00:00:00|\n",
            "|         US|   11257536| R6CE3SOIUJGP4|B00PYL8MAA|     390030149|Proganix Agave Ne...|          Beauty|          4|            1|          1|   N|                N|   Love this cream !| Wish I had discov...|2015-08-31 00:00:00|\n",
            "|         US|   29605778|R37CDLQZUPDZVM|B00D9NV2D4|     794858888|         Shea Butter|          Beauty|          5|            0|          0|   N|                Y|It works so much ...| I bought this to ...|2015-08-31 00:00:00|\n",
            "|         US|   41238422|R1KH9XCK6GYT26|B008Y9M412|     874223919|Etude House Fresh...|          Beauty|          5|            0|          0|   N|                Y|          Five Stars| The tint is aweso...|2015-08-31 00:00:00|\n",
            "|         US|   23620123|R3I4BQ6654MQNA|B00FWXBLHG|     464001209|Vintage Lil' Spon...|          Beauty|          5|            1|          1|   N|                Y|Great product, fa...| I'm in love with ...|2015-08-31 00:00:00|\n",
            "|         US|   25564245|R3LUPG356F1D40|B003KL8CB0|     328680790|Jenna Jameson Hea...|          Beauty|          5|            3|          3|   N|                N|Does not smell ch...| I was given this ...|2015-08-31 00:00:00|\n",
            "|         US|     801375|R3HNVRTHL9S2ZB|B006R2LNV0|     620737389|Korean Cosmetics_...|          Beauty|          5|            0|          0|   N|                N|          Five Stars| Magical everybody...|2015-08-31 00:00:00|\n",
            "|         US|    9478730| R5HKL5RD4IUT8|B00SMIIR0W|     351973146|Schick Hydro Silk...|          Beauty|          5|            0|          0|   N|                Y|Love this Razor/T...| Works fantastic! ...|2015-08-31 00:00:00|\n",
            "|         US|   18418407|R37Z8NBTHPR853|B003UKKH6O|      10034795|Oral-B Vitality P...|          Beauty|          5|            0|          0|   N|                Y|          Five Stars| excellent battery...|2015-08-31 00:00:00|\n",
            "+-----------+-----------+--------------+----------+--------------+--------------------+----------------+-----------+-------------+-----------+----+-----------------+--------------------+---------------------+-------------------+\n",
            "only showing top 20 rows\n",
            "\n"
          ]
        }
      ]
    },
    {
      "cell_type": "code",
      "source": [
        "# Create the vine_table. DataFrame\n",
        "from pyspark.sql.types import IntegerType\n",
        "\n",
        "vine_df = df.select([\"review_id\", \"star_rating\", \"helpful_votes\", \"total_votes\", \"vine\", \"verified_purchase\"])\n",
        "vine_df.dtypes"
      ],
      "metadata": {
        "colab": {
          "base_uri": "https://localhost:8080/"
        },
        "id": "kczrc0J6L0yi",
        "outputId": "cf91557a-a992-48ff-e604-d4649b8e1caa"
      },
      "execution_count": 121,
      "outputs": [
        {
          "output_type": "execute_result",
          "data": {
            "text/plain": [
              "[('review_id', 'string'),\n",
              " ('star_rating', 'string'),\n",
              " ('helpful_votes', 'int'),\n",
              " ('total_votes', 'int'),\n",
              " ('vine', 'string'),\n",
              " ('verified_purchase', 'string')]"
            ]
          },
          "metadata": {},
          "execution_count": 121
        }
      ]
    },
    {
      "cell_type": "code",
      "source": [
        "vine_df=vine_df.withColumn(\"star_rating\",vine_df[\"star_rating\"].cast(IntegerType()))\n",
        "vine_df.dtypes"
      ],
      "metadata": {
        "colab": {
          "base_uri": "https://localhost:8080/"
        },
        "id": "FAsWnIqhL3cT",
        "outputId": "6ed6709e-a896-44e1-f564-29cb8d411a9a"
      },
      "execution_count": 122,
      "outputs": [
        {
          "output_type": "execute_result",
          "data": {
            "text/plain": [
              "[('review_id', 'string'),\n",
              " ('star_rating', 'int'),\n",
              " ('helpful_votes', 'int'),\n",
              " ('total_votes', 'int'),\n",
              " ('vine', 'string'),\n",
              " ('verified_purchase', 'string')]"
            ]
          },
          "metadata": {},
          "execution_count": 122
        }
      ]
    },
    {
      "cell_type": "code",
      "source": [
        "vine_df.show()"
      ],
      "metadata": {
        "colab": {
          "base_uri": "https://localhost:8080/"
        },
        "id": "Fa5CeccAL-Ze",
        "outputId": "ee1e64b0-66c8-468c-d6af-26463caa9601"
      },
      "execution_count": 123,
      "outputs": [
        {
          "output_type": "stream",
          "name": "stdout",
          "text": [
            "+--------------+-----------+-------------+-----------+----+-----------------+\n",
            "|     review_id|star_rating|helpful_votes|total_votes|vine|verified_purchase|\n",
            "+--------------+-----------+-------------+-----------+----+-----------------+\n",
            "|R3I2DHQBR577SS|          5|            0|          0|   N|                Y|\n",
            "|R1QNE9NQFJC2Y4|          5|            0|          0|   N|                Y|\n",
            "|R3LIDG2Q4LJBAO|          5|            0|          0|   N|                Y|\n",
            "|R3KSZHPAEVPEAL|          5|            0|          0|   N|                Y|\n",
            "| RAI2OIG50KZ43|          5|            0|          0|   N|                Y|\n",
            "|R1R30FA4RB5P54|          4|            0|          0|   N|                Y|\n",
            "|R30IJKCGJBGPJH|          5|            0|          0|   N|                Y|\n",
            "|R18GLJJPVQ1OVH|          5|            0|          0|   N|                Y|\n",
            "| R8TVYIJXLYJT0|          5|            0|          0|   N|                Y|\n",
            "|R1CJGF6M3PVHEZ|          1|            0|          2|   N|                Y|\n",
            "|R2A30ALEGLMCGN|          4|            1|          1|   N|                Y|\n",
            "|R134GP1Y3EQZ1L|          5|            0|          0|   N|                Y|\n",
            "| R6CE3SOIUJGP4|          4|            1|          1|   N|                N|\n",
            "|R37CDLQZUPDZVM|          5|            0|          0|   N|                Y|\n",
            "|R1KH9XCK6GYT26|          5|            0|          0|   N|                Y|\n",
            "|R3I4BQ6654MQNA|          5|            1|          1|   N|                Y|\n",
            "|R3LUPG356F1D40|          5|            3|          3|   N|                N|\n",
            "|R3HNVRTHL9S2ZB|          5|            0|          0|   N|                N|\n",
            "| R5HKL5RD4IUT8|          5|            0|          0|   N|                Y|\n",
            "|R37Z8NBTHPR853|          5|            0|          0|   N|                Y|\n",
            "+--------------+-----------+-------------+-----------+----+-----------------+\n",
            "only showing top 20 rows\n",
            "\n"
          ]
        }
      ]
    },
    {
      "cell_type": "markdown",
      "source": [
        "1.Create a new Data Frame to retrieve all the rows where the total_votes count is equal to or greater than 20.\n"
      ],
      "metadata": {
        "id": "obPyv8XTbNDV"
      }
    },
    {
      "cell_type": "code",
      "source": [
        "vine_df=vine_df.filter(\"total_votes>=20\")\n",
        "vine_df.show()"
      ],
      "metadata": {
        "colab": {
          "base_uri": "https://localhost:8080/"
        },
        "id": "U9549s4jMi0N",
        "outputId": "af0d4879-f23c-4f43-d363-e02214029b66"
      },
      "execution_count": 124,
      "outputs": [
        {
          "output_type": "stream",
          "name": "stdout",
          "text": [
            "+--------------+-----------+-------------+-----------+----+-----------------+\n",
            "|     review_id|star_rating|helpful_votes|total_votes|vine|verified_purchase|\n",
            "+--------------+-----------+-------------+-----------+----+-----------------+\n",
            "|R2QRUE9REK8OUC|          5|           18|         23|   N|                Y|\n",
            "|R2POXRW6PXHXZG|          5|           25|         30|   N|                Y|\n",
            "| RZN43XRZ89IIJ|          3|           10|         27|   N|                N|\n",
            "|R29Q748WSHZ3SN|          5|           23|         24|   N|                Y|\n",
            "| R46UL5G5HEPRZ|          5|           18|         20|   N|                N|\n",
            "|R2UQHSNWU6WTZX|          5|           74|         76|   N|                N|\n",
            "|R2HSRI3D6E2M9Y|          5|           69|         71|   N|                Y|\n",
            "|R17ARFSDV555EW|          1|           29|         29|   N|                Y|\n",
            "|R3GL5156FFEDQA|          5|           20|         21|   N|                Y|\n",
            "|R29KQJC9PIYWQS|          5|           25|         26|   N|                Y|\n",
            "| RYWUJT2A33VJH|          5|           20|         22|   N|                N|\n",
            "|R1KH5L45CWI30I|          5|           19|         20|   N|                N|\n",
            "|R1RKEBF47UEIVH|          5|           26|         30|   N|                N|\n",
            "|R3N1SCGIU1LV1U|          1|            2|         20|   N|                Y|\n",
            "|R2WIB8BHF77XIG|          4|           69|         78|   N|                N|\n",
            "|R20T4C0DA38YBD|          5|           22|         23|   N|                Y|\n",
            "| REUKY9DLNJXYF|          4|           21|         22|   N|                Y|\n",
            "|R2OH5QLD7MGJTG|          5|           48|         48|   N|                Y|\n",
            "|R179M7NOS1365W|          5|           88|         91|   N|                Y|\n",
            "|R2NPNCGM6T1JBA|          3|          253|        259|   N|                Y|\n",
            "+--------------+-----------+-------------+-----------+----+-----------------+\n",
            "only showing top 20 rows\n",
            "\n"
          ]
        }
      ]
    },
    {
      "cell_type": "markdown",
      "source": [
        "2. New Data Frame to retrieve all the rows where the number of helpful_votes divided by total_votes is equal or greater than 50%"
      ],
      "metadata": {
        "id": "_hDotybTaDha"
      }
    },
    {
      "cell_type": "code",
      "source": [
        "# Import functions\n",
        "import pyspark.sql.functions as f\n",
        "from pyspark.sql.functions import round, col\n",
        "\n",
        "vine_df=vine_df.withColumn(\"divide\", (f.lit(f.col(\"helpful_votes\")/f.col(\"total_votes\")*100))).select(\"*\",round(\"divide\",2)).filter(\"divide>=50\")\n",
        "vine_df.show()"
      ],
      "metadata": {
        "colab": {
          "base_uri": "https://localhost:8080/"
        },
        "id": "Pzkv-z_OQkIg",
        "outputId": "bbf6e664-486f-4ec5-d10a-3ffe285476a3"
      },
      "execution_count": 125,
      "outputs": [
        {
          "output_type": "stream",
          "name": "stdout",
          "text": [
            "+--------------+-----------+-------------+-----------+----+-----------------+-----------------+----------------+\n",
            "|     review_id|star_rating|helpful_votes|total_votes|vine|verified_purchase|           divide|round(divide, 2)|\n",
            "+--------------+-----------+-------------+-----------+----+-----------------+-----------------+----------------+\n",
            "|R2QRUE9REK8OUC|          5|           18|         23|   N|                Y|78.26086956521739|           78.26|\n",
            "|R2POXRW6PXHXZG|          5|           25|         30|   N|                Y|83.33333333333334|           83.33|\n",
            "|R29Q748WSHZ3SN|          5|           23|         24|   N|                Y|95.83333333333334|           95.83|\n",
            "| R46UL5G5HEPRZ|          5|           18|         20|   N|                N|             90.0|            90.0|\n",
            "|R2UQHSNWU6WTZX|          5|           74|         76|   N|                N|97.36842105263158|           97.37|\n",
            "|R2HSRI3D6E2M9Y|          5|           69|         71|   N|                Y| 97.1830985915493|           97.18|\n",
            "|R17ARFSDV555EW|          1|           29|         29|   N|                Y|            100.0|           100.0|\n",
            "|R3GL5156FFEDQA|          5|           20|         21|   N|                Y|95.23809523809523|           95.24|\n",
            "|R29KQJC9PIYWQS|          5|           25|         26|   N|                Y|96.15384615384616|           96.15|\n",
            "| RYWUJT2A33VJH|          5|           20|         22|   N|                N| 90.9090909090909|           90.91|\n",
            "|R1KH5L45CWI30I|          5|           19|         20|   N|                N|             95.0|            95.0|\n",
            "|R1RKEBF47UEIVH|          5|           26|         30|   N|                N|86.66666666666667|           86.67|\n",
            "|R2WIB8BHF77XIG|          4|           69|         78|   N|                N|88.46153846153845|           88.46|\n",
            "|R20T4C0DA38YBD|          5|           22|         23|   N|                Y|95.65217391304348|           95.65|\n",
            "| REUKY9DLNJXYF|          4|           21|         22|   N|                Y|95.45454545454545|           95.45|\n",
            "|R2OH5QLD7MGJTG|          5|           48|         48|   N|                Y|            100.0|           100.0|\n",
            "|R179M7NOS1365W|          5|           88|         91|   N|                Y| 96.7032967032967|            96.7|\n",
            "|R2NPNCGM6T1JBA|          3|          253|        259|   N|                Y|97.68339768339769|           97.68|\n",
            "|R345Z1BTFABFY0|          1|           19|         22|   N|                Y|86.36363636363636|           86.36|\n",
            "|R2Z6FGGU3VNCT2|          1|           41|         46|   N|                N|89.13043478260869|           89.13|\n",
            "+--------------+-----------+-------------+-----------+----+-----------------+-----------------+----------------+\n",
            "only showing top 20 rows\n",
            "\n"
          ]
        }
      ]
    },
    {
      "cell_type": "markdown",
      "source": [
        "3. Filter the Data Frame and create a new Data Frame that retrieves all the rows where a review was written as part of the Vine Program (paid)."
      ],
      "metadata": {
        "id": "siMcJVTpbIO3"
      }
    },
    {
      "cell_type": "code",
      "source": [
        "vine_yes=vine_df.filter(\"vine=='Y'\")\n",
        "vine_yes.show()"
      ],
      "metadata": {
        "colab": {
          "base_uri": "https://localhost:8080/"
        },
        "id": "JXHrWzM1b8H4",
        "outputId": "f97e4162-f94a-464f-b0a3-10b9004a93e6"
      },
      "execution_count": 126,
      "outputs": [
        {
          "output_type": "stream",
          "name": "stdout",
          "text": [
            "+--------------+-----------+-------------+-----------+----+-----------------+-----------------+----------------+\n",
            "|     review_id|star_rating|helpful_votes|total_votes|vine|verified_purchase|           divide|round(divide, 2)|\n",
            "+--------------+-----------+-------------+-----------+----+-----------------+-----------------+----------------+\n",
            "|R106V6GUNWRSSS|          5|          857|        889|   Y|                N|96.40044994375702|            96.4|\n",
            "|R37N8KZS48W36A|          5|           36|         37|   Y|                N| 97.2972972972973|            97.3|\n",
            "|R1LNEQ2MQE03PD|          5|           49|         66|   Y|                N|74.24242424242425|           74.24|\n",
            "|R1ECPWPUNK36ES|          5|           29|         31|   Y|                N|93.54838709677419|           93.55|\n",
            "|R16BUM7UQZLOM6|          3|          107|        112|   Y|                N|95.53571428571429|           95.54|\n",
            "| R7NWIOCA5RVPR|          5|           19|         26|   Y|                N|73.07692307692307|           73.08|\n",
            "|R3NTGOCUZB33JK|          5|           40|         47|   Y|                Y| 85.1063829787234|           85.11|\n",
            "| RQX3RHGMG7UBN|          5|          186|        200|   Y|                N|             93.0|            93.0|\n",
            "|R3E6QYKZDST042|          4|           33|         39|   Y|                N|84.61538461538461|           84.62|\n",
            "|R2GR106PWUN85O|          4|           36|         39|   Y|                N| 92.3076923076923|           92.31|\n",
            "| R5AJK8HCOKXV5|          4|           20|         23|   Y|                N|86.95652173913044|           86.96|\n",
            "| RCHD0PMJO6Y52|          3|           17|         20|   Y|                N|             85.0|            85.0|\n",
            "|R1AF6ANE5JFP4D|          5|           50|         55|   Y|                N| 90.9090909090909|           90.91|\n",
            "|R2FKVTMWD52KEY|          4|          265|        276|   Y|                N|96.01449275362319|           96.01|\n",
            "| RZUT8OQAGWOYE|          5|           46|         49|   Y|                N|93.87755102040816|           93.88|\n",
            "| RW89H46BTJJWI|          2|           20|         20|   Y|                N|            100.0|           100.0|\n",
            "| RQ0N3J1IZKGMA|          1|           63|         63|   Y|                N|            100.0|           100.0|\n",
            "|R1Z88KA5VANTXS|          2|           42|         47|   Y|                N|89.36170212765957|           89.36|\n",
            "|R3M9NW8LPEKTWX|          5|           20|         21|   Y|                Y|95.23809523809523|           95.24|\n",
            "|R16QHBYJJ01R4P|          5|           23|         24|   Y|                N|95.83333333333334|           95.83|\n",
            "+--------------+-----------+-------------+-----------+----+-----------------+-----------------+----------------+\n",
            "only showing top 20 rows\n",
            "\n"
          ]
        }
      ]
    },
    {
      "cell_type": "markdown",
      "source": [
        "4. Filter the Data Frame and create a new Data Frame that retrieves all the rows where a review was written was not part of the Vine Program (unpaid)."
      ],
      "metadata": {
        "id": "jEb0J8q1jnAc"
      }
    },
    {
      "cell_type": "code",
      "source": [
        "vine_no=vine_df.filter(\"vine=='N'\")\n",
        "vine_no.show()"
      ],
      "metadata": {
        "colab": {
          "base_uri": "https://localhost:8080/"
        },
        "id": "rdTEGl92fbqd",
        "outputId": "04d75ad9-542d-4000-b0df-27a13faeeecc"
      },
      "execution_count": 127,
      "outputs": [
        {
          "output_type": "stream",
          "name": "stdout",
          "text": [
            "+--------------+-----------+-------------+-----------+----+-----------------+-----------------+----------------+\n",
            "|     review_id|star_rating|helpful_votes|total_votes|vine|verified_purchase|           divide|round(divide, 2)|\n",
            "+--------------+-----------+-------------+-----------+----+-----------------+-----------------+----------------+\n",
            "|R2QRUE9REK8OUC|          5|           18|         23|   N|                Y|78.26086956521739|           78.26|\n",
            "|R2POXRW6PXHXZG|          5|           25|         30|   N|                Y|83.33333333333334|           83.33|\n",
            "|R29Q748WSHZ3SN|          5|           23|         24|   N|                Y|95.83333333333334|           95.83|\n",
            "| R46UL5G5HEPRZ|          5|           18|         20|   N|                N|             90.0|            90.0|\n",
            "|R2UQHSNWU6WTZX|          5|           74|         76|   N|                N|97.36842105263158|           97.37|\n",
            "|R2HSRI3D6E2M9Y|          5|           69|         71|   N|                Y| 97.1830985915493|           97.18|\n",
            "|R17ARFSDV555EW|          1|           29|         29|   N|                Y|            100.0|           100.0|\n",
            "|R3GL5156FFEDQA|          5|           20|         21|   N|                Y|95.23809523809523|           95.24|\n",
            "|R29KQJC9PIYWQS|          5|           25|         26|   N|                Y|96.15384615384616|           96.15|\n",
            "| RYWUJT2A33VJH|          5|           20|         22|   N|                N| 90.9090909090909|           90.91|\n",
            "|R1KH5L45CWI30I|          5|           19|         20|   N|                N|             95.0|            95.0|\n",
            "|R1RKEBF47UEIVH|          5|           26|         30|   N|                N|86.66666666666667|           86.67|\n",
            "|R2WIB8BHF77XIG|          4|           69|         78|   N|                N|88.46153846153845|           88.46|\n",
            "|R20T4C0DA38YBD|          5|           22|         23|   N|                Y|95.65217391304348|           95.65|\n",
            "| REUKY9DLNJXYF|          4|           21|         22|   N|                Y|95.45454545454545|           95.45|\n",
            "|R2OH5QLD7MGJTG|          5|           48|         48|   N|                Y|            100.0|           100.0|\n",
            "|R179M7NOS1365W|          5|           88|         91|   N|                Y| 96.7032967032967|            96.7|\n",
            "|R2NPNCGM6T1JBA|          3|          253|        259|   N|                Y|97.68339768339769|           97.68|\n",
            "|R345Z1BTFABFY0|          1|           19|         22|   N|                Y|86.36363636363636|           86.36|\n",
            "|R2Z6FGGU3VNCT2|          1|           41|         46|   N|                N|89.13043478260869|           89.13|\n",
            "+--------------+-----------+-------------+-----------+----+-----------------+-----------------+----------------+\n",
            "only showing top 20 rows\n",
            "\n"
          ]
        }
      ]
    },
    {
      "cell_type": "markdown",
      "source": [
        "5. Determine the total number of reviews, the number of 5-star reviews, and the percentage of 5-star reviews for the two types of review (paid vs unpaid)."
      ],
      "metadata": {
        "id": "520WdY7oj4cd"
      }
    },
    {
      "cell_type": "code",
      "source": [
        "#Total number of reviews where the helpful_votes/totalvotes is equal or greaer than 50%\n",
        "\n",
        "vine_df.count()\n"
      ],
      "metadata": {
        "colab": {
          "base_uri": "https://localhost:8080/"
        },
        "id": "TAFPnO8OlJAq",
        "outputId": "c2ecf97a-11cb-42fd-bbc0-55901933e7f6"
      },
      "execution_count": 138,
      "outputs": [
        {
          "output_type": "execute_result",
          "data": {
            "text/plain": [
              "74760"
            ]
          },
          "metadata": {},
          "execution_count": 138
        }
      ]
    },
    {
      "cell_type": "code",
      "source": [
        "# Total number of reviews where there is a Vine Review (Paid)\n",
        "vine_yes.count()"
      ],
      "metadata": {
        "colab": {
          "base_uri": "https://localhost:8080/"
        },
        "id": "ybace26lnz4E",
        "outputId": "8e46bfc4-ef44-4aac-b2c4-946da374ae40"
      },
      "execution_count": 139,
      "outputs": [
        {
          "output_type": "execute_result",
          "data": {
            "text/plain": [
              "647"
            ]
          },
          "metadata": {},
          "execution_count": 139
        }
      ]
    },
    {
      "cell_type": "code",
      "source": [
        "# Total number of reviews where there is a Vine Review (Paid) and there is 5-star rating.\n",
        "vine_yes.filter(\"star_rating==5\").count()"
      ],
      "metadata": {
        "colab": {
          "base_uri": "https://localhost:8080/"
        },
        "id": "BTRLmyubj_RX",
        "outputId": "f13ddbd7-2519-4852-850d-f72ab2715ecf"
      },
      "execution_count": 129,
      "outputs": [
        {
          "output_type": "execute_result",
          "data": {
            "text/plain": [
              "229"
            ]
          },
          "metadata": {},
          "execution_count": 129
        }
      ]
    },
    {
      "cell_type": "code",
      "source": [
        "# Percentage between number of reviews where there is a Vine Review /Total number of reviews where the helpful_votes/totalvotes is equal or greaer than 50%.\n",
        "(vine_yes.count()/vine_df.count())*100"
      ],
      "metadata": {
        "colab": {
          "base_uri": "https://localhost:8080/"
        },
        "id": "7VvdnQ4PsfAe",
        "outputId": "2215c498-bc69-4fac-ddd4-789b0792d56f"
      },
      "execution_count": 151,
      "outputs": [
        {
          "output_type": "execute_result",
          "data": {
            "text/plain": [
              "0.8654360620652755"
            ]
          },
          "metadata": {},
          "execution_count": 151
        }
      ]
    },
    {
      "cell_type": "code",
      "source": [
        "# Percentage between number of reviews where there is a Vine Review with 5-star rating/Total number of reviews paid\n",
        "\n",
        "vine_yes.filter(\"star_rating==5\").count()/vine_yes.count()*100"
      ],
      "metadata": {
        "colab": {
          "base_uri": "https://localhost:8080/"
        },
        "id": "w9-MVmdNokQI",
        "outputId": "1fafdd7a-0a22-4303-a496-22a71941e2d0"
      },
      "execution_count": 149,
      "outputs": [
        {
          "output_type": "execute_result",
          "data": {
            "text/plain": [
              "35.394126738794434"
            ]
          },
          "metadata": {},
          "execution_count": 149
        }
      ]
    },
    {
      "cell_type": "code",
      "source": [
        "# Total number of reviews where there isn't a Vine Review (Unpaid)\n",
        "\n",
        "vine_no.count()"
      ],
      "metadata": {
        "colab": {
          "base_uri": "https://localhost:8080/"
        },
        "id": "zH-p_0QSn8Zj",
        "outputId": "9f004459-dafb-45a4-922c-618051b774f1"
      },
      "execution_count": 140,
      "outputs": [
        {
          "output_type": "execute_result",
          "data": {
            "text/plain": [
              "74113"
            ]
          },
          "metadata": {},
          "execution_count": 140
        }
      ]
    },
    {
      "cell_type": "code",
      "source": [
        "# Total number of reviews where there isn't a Vine Review (Unpaid) and there is 5-star rating\n",
        "\n",
        "vine_no.filter(\"star_rating==5\").count()"
      ],
      "metadata": {
        "colab": {
          "base_uri": "https://localhost:8080/"
        },
        "id": "OhOkykoTmgRm",
        "outputId": "4fcb7a7d-130c-4ac5-b153-8b7dc3d0fdeb"
      },
      "execution_count": 141,
      "outputs": [
        {
          "output_type": "execute_result",
          "data": {
            "text/plain": [
              "43217"
            ]
          },
          "metadata": {},
          "execution_count": 141
        }
      ]
    },
    {
      "cell_type": "code",
      "source": [
        "# Percentage between number of reviews where there isn't a Vine Review with 5-star rating/Total number of reviews unpaid\n",
        "\n",
        "vine_no.filter(\"star_rating==5\").count()/vine_no.count()*100"
      ],
      "metadata": {
        "colab": {
          "base_uri": "https://localhost:8080/"
        },
        "id": "STq3JpiMolAr",
        "outputId": "8ef7a49f-2f00-4b57-c9de-b7b0d75e218e"
      },
      "execution_count": 150,
      "outputs": [
        {
          "output_type": "execute_result",
          "data": {
            "text/plain": [
              "58.312306882733125"
            ]
          },
          "metadata": {},
          "execution_count": 150
        }
      ]
    }
  ]
}